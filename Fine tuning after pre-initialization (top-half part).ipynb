{
 "cells": [
  {
   "cell_type": "markdown",
   "metadata": {},
   "source": [
    "#### 5% Training for pre-initalization "
   ]
  },
  {
   "cell_type": "code",
   "execution_count": 1,
   "metadata": {},
   "outputs": [
    {
     "name": "stderr",
     "output_type": "stream",
     "text": [
      "Using TensorFlow backend.\n"
     ]
    },
    {
     "name": "stdout",
     "output_type": "stream",
     "text": [
      "x_train shape: (3000, 28, 28, 1)\n",
      "3000 train samples\n",
      "10000 test samples\n",
      "WARNING:tensorflow:From c:\\users\\jatin\\appdata\\local\\programs\\python\\python36\\lib\\site-packages\\tensorflow\\python\\framework\\op_def_library.py:263: colocate_with (from tensorflow.python.framework.ops) is deprecated and will be removed in a future version.\n",
      "Instructions for updating:\n",
      "Colocations handled automatically by placer.\n",
      "WARNING:tensorflow:From c:\\users\\jatin\\appdata\\local\\programs\\python\\python36\\lib\\site-packages\\keras\\backend\\tensorflow_backend.py:3445: calling dropout (from tensorflow.python.ops.nn_ops) with keep_prob is deprecated and will be removed in a future version.\n",
      "Instructions for updating:\n",
      "Please use `rate` instead of `keep_prob`. Rate should be set to `rate = 1 - keep_prob`.\n",
      "WARNING:tensorflow:From c:\\users\\jatin\\appdata\\local\\programs\\python\\python36\\lib\\site-packages\\tensorflow\\python\\ops\\math_ops.py:3066: to_int32 (from tensorflow.python.ops.math_ops) is deprecated and will be removed in a future version.\n",
      "Instructions for updating:\n",
      "Use tf.cast instead.\n",
      "Train on 3000 samples, validate on 10000 samples\n",
      "Epoch 1/12\n",
      "3000/3000 [==============================] - 8s 3ms/step - loss: 2.0231 - acc: 0.2803 - val_loss: 1.4169 - val_acc: 0.5294\n",
      "Epoch 2/12\n",
      "3000/3000 [==============================] - 4s 1ms/step - loss: 1.2142 - acc: 0.6023 - val_loss: 0.8720 - val_acc: 0.7168\n",
      "Epoch 3/12\n",
      "3000/3000 [==============================] - 4s 1ms/step - loss: 0.8288 - acc: 0.7367 - val_loss: 0.5922 - val_acc: 0.7932\n",
      "Epoch 4/12\n",
      "3000/3000 [==============================] - 4s 1ms/step - loss: 0.6574 - acc: 0.7910 - val_loss: 0.5774 - val_acc: 0.7974\n",
      "Epoch 5/12\n",
      "3000/3000 [==============================] - 4s 1ms/step - loss: 0.5321 - acc: 0.8320 - val_loss: 0.4878 - val_acc: 0.8306\n",
      "Epoch 6/12\n",
      "3000/3000 [==============================] - 4s 1ms/step - loss: 0.4942 - acc: 0.8350 - val_loss: 0.4187 - val_acc: 0.8593\n",
      "Epoch 7/12\n",
      "3000/3000 [==============================] - 4s 1ms/step - loss: 0.4425 - acc: 0.8600 - val_loss: 0.4811 - val_acc: 0.8359\n",
      "Epoch 8/12\n",
      "3000/3000 [==============================] - 4s 1ms/step - loss: 0.3933 - acc: 0.8733 - val_loss: 0.3949 - val_acc: 0.8682\n",
      "Epoch 9/12\n",
      "3000/3000 [==============================] - 4s 1ms/step - loss: 0.3748 - acc: 0.8823 - val_loss: 0.3576 - val_acc: 0.8856\n",
      "Epoch 10/12\n",
      "3000/3000 [==============================] - 4s 1ms/step - loss: 0.3616 - acc: 0.8840 - val_loss: 0.3345 - val_acc: 0.8905\n",
      "Epoch 11/12\n",
      "3000/3000 [==============================] - 4s 1ms/step - loss: 0.3453 - acc: 0.8867 - val_loss: 0.3468 - val_acc: 0.8830\n",
      "Epoch 12/12\n",
      "3000/3000 [==============================] - 4s 1ms/step - loss: 0.3243 - acc: 0.8940 - val_loss: 0.3789 - val_acc: 0.8786\n",
      "Test loss: 0.37892030054032805\n",
      "Test accuracy: 0.8786\n"
     ]
    }
   ],
   "source": [
    "from __future__ import print_function\n",
    "import keras\n",
    "from keras.datasets import mnist\n",
    "from keras.models import Sequential\n",
    "from keras.layers import Dense, Dropout, Flatten\n",
    "from keras.layers import Conv2D, MaxPooling2D\n",
    "from keras import backend as K\n",
    "import numpy as np\n",
    "\n",
    "batch_size = 128\n",
    "num_classes = 10\n",
    "epochs = 12\n",
    "\n",
    "# input image dimensions\n",
    "img_rows, img_cols = 28, 28\n",
    "\n",
    "# the data, split between train and test sets\n",
    "(x_train, y_train), (x_test, y_test) = mnist.load_data()\n",
    "x_train_top = np.load('x_3000_topview.npy')\n",
    "y_train_top = np.load('3000_y.npy')\n",
    "\n",
    "x_train = x_train_top\n",
    "y_train = y_train_top\n",
    "\n",
    "\n",
    "if K.image_data_format() == 'channels_first':\n",
    "    x_train = x_train.reshape(x_train.shape[0], 1, img_rows, img_cols)\n",
    "    x_test = x_test.reshape(x_test.shape[0], 1, img_rows, img_cols)\n",
    "    input_shape = (1, img_rows, img_cols)\n",
    "else:\n",
    "    x_train = x_train.reshape(x_train.shape[0], img_rows, img_cols, 1)\n",
    "    x_test = x_test.reshape(x_test.shape[0], img_rows, img_cols, 1)\n",
    "    input_shape = (img_rows, img_cols, 1)\n",
    "\n",
    "x_train = x_train.astype('float32')\n",
    "x_test = x_test.astype('float32')\n",
    "x_train /= 255\n",
    "x_test /= 255\n",
    "print('x_train shape:', x_train.shape)\n",
    "print(x_train.shape[0], 'train samples')\n",
    "print(x_test.shape[0], 'test samples')\n",
    "\n",
    "# convert class vectors to binary class matrices\n",
    "y_train = keras.utils.to_categorical(y_train, num_classes)\n",
    "y_test = keras.utils.to_categorical(y_test, num_classes)\n",
    "\n",
    "model = Sequential()\n",
    "model.add(Conv2D(32, kernel_size=(3, 3),\n",
    "                 activation='relu',\n",
    "                 input_shape=input_shape))\n",
    "model.add(Conv2D(64, (3, 3), activation='relu'))\n",
    "model.add(MaxPooling2D(pool_size=(2, 2)))\n",
    "model.add(Dropout(0.25))\n",
    "\n",
    "\n",
    "model.add(Conv2D(32, kernel_size=(3, 3),\n",
    "                 activation='relu',\n",
    "                 input_shape=input_shape))\n",
    "model.add(Conv2D(64, (3, 3), activation='relu'))\n",
    "model.add(MaxPooling2D(pool_size=(2, 2)))\n",
    "model.add(Dropout(0.25))\n",
    "\n",
    "model.add(Flatten())\n",
    "model.add(Dense(128, activation='relu'))\n",
    "model.add(Dropout(0.5))\n",
    "model.add(Dense(num_classes, activation='softmax'))\n",
    "\n",
    "model.compile(loss=keras.losses.categorical_crossentropy,\n",
    "              optimizer=keras.optimizers.Adadelta(),\n",
    "              metrics=['accuracy'])\n",
    "\n",
    "model.fit(x_train, y_train,\n",
    "          batch_size=batch_size,\n",
    "          epochs=epochs,\n",
    "          verbose=1,\n",
    "          validation_data=(x_test, y_test))\n",
    "score = model.evaluate(x_test, y_test, verbose=0)\n",
    "print('Test loss:', score[0])\n",
    "print('Test accuracy:', score[1])"
   ]
  },
  {
   "cell_type": "code",
   "execution_count": 2,
   "metadata": {},
   "outputs": [],
   "source": [
    "model.save('topView.h5') "
   ]
  },
  {
   "cell_type": "markdown",
   "metadata": {},
   "source": [
    "#### 95% for fining tune on top of pre-initailized model"
   ]
  },
  {
   "cell_type": "code",
   "execution_count": 3,
   "metadata": {},
   "outputs": [],
   "source": [
    "from keras.models import load_model\n",
    "model = load_model('topView.h5')"
   ]
  },
  {
   "cell_type": "code",
   "execution_count": 4,
   "metadata": {},
   "outputs": [
    {
     "name": "stdout",
     "output_type": "stream",
     "text": [
      "x_train shape: (57000, 28, 28, 1)\n",
      "57000 train samples\n",
      "10000 test samples\n",
      "Train on 57000 samples, validate on 10000 samples\n",
      "Epoch 1/12\n",
      "57000/57000 [==============================] - 38s 661us/step - loss: 0.1662 - acc: 0.9496 - val_loss: 0.0722 - val_acc: 0.9781\n",
      "Epoch 2/12\n",
      "57000/57000 [==============================] - 37s 642us/step - loss: 0.0845 - acc: 0.9754 - val_loss: 0.0417 - val_acc: 0.9872\n",
      "Epoch 3/12\n",
      "57000/57000 [==============================] - 37s 641us/step - loss: 0.0666 - acc: 0.9805 - val_loss: 0.0305 - val_acc: 0.9896\n",
      "Epoch 4/12\n",
      "57000/57000 [==============================] - 37s 643us/step - loss: 0.0531 - acc: 0.9842 - val_loss: 0.0248 - val_acc: 0.9921\n",
      "Epoch 5/12\n",
      "57000/57000 [==============================] - 37s 646us/step - loss: 0.0463 - acc: 0.9864 - val_loss: 0.0295 - val_acc: 0.9902\n",
      "Epoch 6/12\n",
      "57000/57000 [==============================] - 37s 646us/step - loss: 0.0433 - acc: 0.9873 - val_loss: 0.0219 - val_acc: 0.9928\n",
      "Epoch 7/12\n",
      "57000/57000 [==============================] - 38s 661us/step - loss: 0.0370 - acc: 0.9889 - val_loss: 0.0252 - val_acc: 0.9926\n",
      "Epoch 8/12\n",
      "57000/57000 [==============================] - 38s 670us/step - loss: 0.0338 - acc: 0.9895 - val_loss: 0.0196 - val_acc: 0.9941\n",
      "Epoch 9/12\n",
      "57000/57000 [==============================] - 39s 685us/step - loss: 0.0319 - acc: 0.9908 - val_loss: 0.0284 - val_acc: 0.9921\n",
      "Epoch 10/12\n",
      "57000/57000 [==============================] - 41s 726us/step - loss: 0.0283 - acc: 0.9913 - val_loss: 0.0192 - val_acc: 0.9945285 - acc:\n",
      "Epoch 11/12\n",
      "57000/57000 [==============================] - 42s 745us/step - loss: 0.0276 - acc: 0.9916 - val_loss: 0.0176 - val_acc: 0.9945\n",
      "Epoch 12/12\n",
      "57000/57000 [==============================] - 45s 794us/step - loss: 0.0257 - acc: 0.9916 - val_loss: 0.0189 - val_acc: 0.9950\n",
      "Test loss: 0.01885402521524502\n",
      "Test accuracy: 0.995\n"
     ]
    }
   ],
   "source": [
    "batch_size = 128\n",
    "num_classes = 10\n",
    "epochs = 12\n",
    "\n",
    "# input image dimensions\n",
    "img_rows, img_cols = 28, 28\n",
    "\n",
    "# the data, split between train and test sets\n",
    "(x_train, y_train), (x_test, y_test) = mnist.load_data()\n",
    "\n",
    "x_train = np.load('57000_x.npy')\n",
    "y_train = np.load('57000_y.npy')\n",
    "\n",
    "if K.image_data_format() == 'channels_first':\n",
    "    x_train = x_train.reshape(x_train.shape[0], 1, img_rows, img_cols)\n",
    "    x_test = x_test.reshape(x_test.shape[0], 1, img_rows, img_cols)\n",
    "    input_shape = (1, img_rows, img_cols)\n",
    "else:\n",
    "    x_train = x_train.reshape(x_train.shape[0], img_rows, img_cols, 1)\n",
    "    x_test = x_test.reshape(x_test.shape[0], img_rows, img_cols, 1)\n",
    "    input_shape = (img_rows, img_cols, 1)\n",
    "\n",
    "x_train = x_train.astype('float32')\n",
    "x_test = x_test.astype('float32')\n",
    "x_train /= 255\n",
    "x_test /= 255\n",
    "print('x_train shape:', x_train.shape)\n",
    "print(x_train.shape[0], 'train samples')\n",
    "print(x_test.shape[0], 'test samples')\n",
    "\n",
    "# convert class vectors to binary class matrices\n",
    "y_train = keras.utils.to_categorical(y_train, num_classes)\n",
    "y_test = keras.utils.to_categorical(y_test, num_classes)\n",
    "\n",
    "\n",
    "model = load_model('topView.h5')\n",
    "\n",
    "model.compile(loss=keras.losses.categorical_crossentropy,\n",
    "              optimizer=keras.optimizers.Adadelta(),\n",
    "              metrics=['accuracy'])\n",
    "\n",
    "model.fit(x_train, y_train,\n",
    "          batch_size=batch_size,\n",
    "          epochs=epochs,\n",
    "          verbose=1,\n",
    "          validation_data=(x_test, y_test))\n",
    "score = model.evaluate(x_test, y_test, verbose=0)\n",
    "print('Test loss:', score[0])\n",
    "print('Test accuracy:', score[1])"
   ]
  },
  {
   "cell_type": "code",
   "execution_count": 5,
   "metadata": {},
   "outputs": [
    {
     "name": "stdout",
     "output_type": "stream",
     "text": [
      "(10000, 10)\n"
     ]
    }
   ],
   "source": [
    "pred = model.predict(x_test)\n",
    "print(pred.shape)"
   ]
  },
  {
   "cell_type": "code",
   "execution_count": 6,
   "metadata": {},
   "outputs": [],
   "source": [
    "np.save('topview_pred.npy',pred)"
   ]
  }
 ],
 "metadata": {
  "kernelspec": {
   "display_name": "Python 3",
   "language": "python",
   "name": "python3"
  },
  "language_info": {
   "codemirror_mode": {
    "name": "ipython",
    "version": 3
   },
   "file_extension": ".py",
   "mimetype": "text/x-python",
   "name": "python",
   "nbconvert_exporter": "python",
   "pygments_lexer": "ipython3",
   "version": "3.6.6"
  }
 },
 "nbformat": 4,
 "nbformat_minor": 2
}
